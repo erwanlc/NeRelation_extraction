{
 "cells": [
  {
   "cell_type": "code",
   "execution_count": 2,
   "metadata": {},
   "outputs": [],
   "source": [
    "from ipywidgets import interact\n",
    "import pandas as pd"
   ]
  },
  {
   "cell_type": "code",
   "execution_count": 3,
   "metadata": {},
   "outputs": [
    {
     "name": "stderr",
     "output_type": "stream",
     "text": [
      "c:\\Users\\lecover\\OneDrive - Konecranes Plc\\Documents\\Project\\TechnoWatch\\TechNER\\.venv\\lib\\site-packages\\ipykernel_launcher.py:2: FutureWarning: The default value of regex will change from True to False in a future version.\n",
      "  \n",
      "c:\\Users\\lecover\\OneDrive - Konecranes Plc\\Documents\\Project\\TechnoWatch\\TechNER\\.venv\\lib\\site-packages\\ipykernel_launcher.py:3: FutureWarning: The default value of regex will change from True to False in a future version.\n",
      "  This is separate from the ipykernel package so we can avoid doing imports until\n"
     ]
    }
   ],
   "source": [
    "df_res = pd.read_csv(\"data\\sp21_us_comments_2022_relations.csv\")\n",
    "df_res[\"status\"] = df_res[\"status\"].str.replace(r\"[^\\w\\s]+\", \"\")\n",
    "df_res[\"component\"] = df_res[\"component\"].str.replace(r\"[^\\w\\s]+\", \"\")\n",
    "df_res[\"status\"] = df_res[\"status\"].str.lower()\n",
    "df_res[\"component\"] = df_res[\"component\"].str.lower()\n",
    "df_res = df_res[df_res[\"status\"]!=\"\"]\n",
    "df_res = df_res[df_res[\"component\"]!=\"\"]"
   ]
  },
  {
   "cell_type": "code",
   "execution_count": 29,
   "metadata": {},
   "outputs": [
    {
     "data": {
      "application/vnd.jupyter.widget-view+json": {
       "model_id": "bb51b1ee3af34d9ca81ab1722d87cc20",
       "version_major": 2,
       "version_minor": 0
      },
      "text/plain": [
       "interactive(children=(Dropdown(description='component', index=30, options=('hoist', 'wire rope', 'wires', 'cra…"
      ]
     },
     "metadata": {},
     "output_type": "display_data"
    }
   ],
   "source": [
    "column_1_list = df_res[\"component\"].value_counts().index.tolist()[:30] + [\"All\"]\n",
    "@interact(\n",
    "    component=column_1_list\n",
    ")\n",
    "def show_rows(component=\"All\"):\n",
    "    df_temp = df_res.copy()\n",
    "    if component == \"All\":\n",
    "        df_temp = df_temp\n",
    "    else:\n",
    "        df_temp = df_temp[df_temp[\"component\"] == component]\n",
    "\n",
    "    print(df_temp[\"status\"].value_counts().head(20))"
   ]
  },
  {
   "cell_type": "code",
   "execution_count": null,
   "metadata": {},
   "outputs": [],
   "source": []
  }
 ],
 "metadata": {
  "kernelspec": {
   "display_name": "Python 3.7.4 ('.venv': poetry)",
   "language": "python",
   "name": "python3"
  },
  "language_info": {
   "codemirror_mode": {
    "name": "ipython",
    "version": 3
   },
   "file_extension": ".py",
   "mimetype": "text/x-python",
   "name": "python",
   "nbconvert_exporter": "python",
   "pygments_lexer": "ipython3",
   "version": "3.7.4"
  },
  "orig_nbformat": 4,
  "vscode": {
   "interpreter": {
    "hash": "6246ccbbb2fc90bb6ac6af71ce225252893c8b305161a8e7ea2679a6cab0264b"
   }
  }
 },
 "nbformat": 4,
 "nbformat_minor": 2
}
